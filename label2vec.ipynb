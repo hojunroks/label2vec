{
 "cells": [
  {
   "cell_type": "code",
   "execution_count": 9,
   "id": "suspected-blocking",
   "metadata": {},
   "outputs": [],
   "source": [
    "from torchvision.datasets import STL10\n",
    "from torchvision.transforms import ToTensor\n",
    "from torchvision import models\n",
    "import torch\n",
    "from torch import nn\n",
    "from src.model import Classifier\n",
    "from src.utils import get_file"
   ]
  },
  {
   "cell_type": "code",
   "execution_count": 10,
   "id": "thirty-confusion",
   "metadata": {},
   "outputs": [],
   "source": [
    "TRAIN_DATASET = STL10(root=\"data\", split=\"train\", download=False, transform=ToTensor())\n",
    "TEST_DATASET = STL10(root=\"data\", split=\"test\", download=False, transform=ToTensor())"
   ]
  },
  {
   "cell_type": "code",
   "execution_count": 11,
   "id": "behavioral-concentration",
   "metadata": {},
   "outputs": [],
   "source": [
    "class Identity(nn.Module):\n",
    "    def __init__(self):\n",
    "        super(Identity, self).__init__()\n",
    "        \n",
    "    def forward(self, x):\n",
    "        return x"
   ]
  },
  {
   "cell_type": "code",
   "execution_count": 12,
   "id": "multiple-fellow",
   "metadata": {},
   "outputs": [],
   "source": [
    "model = models.resnet18(pretrained=True)\n",
    "pre_file = get_file('PZGY_finetuned.ckpt')\n",
    "if pre_file is not None:\n",
    "        cls = Classifier.load_from_checkpoint(pre_file, feature_extractor=model)\n",
    "        model.load_state_dict(cls.model.state_dict())\n",
    "model.fc = Identity()\n",
    "model.eval()\n",
    "labels = []\n",
    "count = [0,0,0,0,0,0,0,0,0,0]\n",
    "with torch.no_grad():\n",
    "    for i in range(10):\n",
    "        t = torch.zeros([500,512])\n",
    "        labels.append(t)\n",
    "\n",
    "    for xi, x in enumerate(TRAIN_DATASET):\n",
    "        c, y = x\n",
    "        cd = model(torch.unsqueeze(c, 0))\n",
    "        labels[y][count[y]] = cd[0]\n",
    "        count[y] += 1\n",
    "\n"
   ]
  },
  {
   "cell_type": "code",
   "execution_count": 14,
   "id": "joined-program",
   "metadata": {},
   "outputs": [],
   "source": [
    "label_std = []\n",
    "label_mean = []\n",
    "for i in range(10):\n",
    "    label_std.append(torch.std(labels[i], dim=0))\n",
    "    label_mean.append(torch.mean(labels[i], dim=0))"
   ]
  },
  {
   "cell_type": "code",
   "execution_count": 16,
   "id": "visible-cement",
   "metadata": {},
   "outputs": [
    {
     "name": "stdout",
     "output_type": "stream",
     "text": [
      "torch.Size([512])\n"
     ]
    }
   ],
   "source": [
    "print(label_std[0].shape)"
   ]
  },
  {
   "cell_type": "code",
   "execution_count": null,
   "id": "developing-nowhere",
   "metadata": {},
   "outputs": [],
   "source": []
  }
 ],
 "metadata": {
  "kernelspec": {
   "display_name": "Python [conda env:l2v] *",
   "language": "python",
   "name": "conda-env-l2v-py"
  },
  "language_info": {
   "codemirror_mode": {
    "name": "ipython",
    "version": 3
   },
   "file_extension": ".py",
   "mimetype": "text/x-python",
   "name": "python",
   "nbconvert_exporter": "python",
   "pygments_lexer": "ipython3",
   "version": "3.8.5"
  }
 },
 "nbformat": 4,
 "nbformat_minor": 5
}
